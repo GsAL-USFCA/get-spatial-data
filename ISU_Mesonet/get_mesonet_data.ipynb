{
    "cells": [
        {
            "cell_type": "code",
            "execution_count": 27,
            "source": [
                "import json\n",
                "import us \n",
                "from urllib.request import urlopen\n",
                "from typing import List"
            ],
            "outputs": [],
            "metadata": {}
        },
        {
            "cell_type": "code",
            "execution_count": 45,
            "source": [
                "def get_stations(states: List = None,\n",
                "                 network_types: List = [\"ASOS\"]) -> List:\n",
                "    \"\"\"Returns list of station ids based on input states.\n",
                "\n",
                "    Args:\n",
                "        states (List, optional): Defaults to None, which is all states.\n",
                "        network_types (List, optional): Defaults to [\"ASOS\"]. \n",
                "\n",
                "    Returns:\n",
                "        List: station ids that can be used for querying climate data\n",
                "    \"\"\"\n",
                "    if states is None:\n",
                "        states = list(us.states.mapping('abbr', 'name').keys())\n",
                "    \n",
                "    networks = [f'{s}_{n}' for s in states for n in network_types]\n",
                "    stations = []\n",
                "    \n",
                "    for network in networks:\n",
                "        # Get metadata\n",
                "        url = f\"https://mesonet.agron.iastate.edu/geojson/network/{network}.geojson\"\n",
                "        data = urlopen(url)\n",
                "        jdict = json.load(data)\n",
                "        for site in jdict[\"features\"]:\n",
                "            stations.append(site[\"properties\"][\"sid\"])\n",
                "    \n",
                "    return stations"
            ],
            "outputs": [
                {
                    "output_type": "execute_result",
                    "data": {
                        "text/plain": [
                            "24"
                        ]
                    },
                    "metadata": {},
                    "execution_count": 45
                }
            ],
            "metadata": {}
        },
        {
            "cell_type": "code",
            "execution_count": 53,
            "source": [
                "def get_station_data(stations: List,\n",
                "                    start_year: int,\n",
                "                    start_month: int,\n",
                "                    start_day: int,\n",
                "                    end_year: int,\n",
                "                    end_month: int,\n",
                "                    end_day: int,\n",
                "                    base_url = \"http://mesonet.agron.iastate.edu/cgi-bin/request/asos.py?data=all&tz=Etc/UTC&format=comma&latlon=yes&\") -> pd.DataFrame:\n",
                "    \"\"\"Pulls hourly climate data for list of given stations. Size of returned df might be enormous if query is too large.\n",
                "\n",
                "    Args:\n",
                "        stations (List): Stations returned from get_stations() or manually from IEM\n",
                "        start_year (int): start year of data to pull\n",
                "        start_month (int): start month of data to pull\n",
                "        start_day (int): start day of data to pull\n",
                "        end_year (int): end year of data to pull\n",
                "        end_month (int): end month of data to pull\n",
                "        end_day (int): end day of data to pull\n",
                "        base_url (str, optional): Defaults to \"http://mesonet.agron.iastate.edu/cgi-bin/request/asos.py?data=all&tz=Etc/UTC&format=comma&latlon=yes&\".\n",
                "\n",
                "    Returns:\n",
                "        pd.DataFrame: ['station', 'valid', 'lon', 'lat', 'tmpf', 'dwpf', 'relh', 'drct',\n",
                "       'sknt', 'p01i', 'alti', 'mslp', 'vsby', 'gust', 'skyc1', 'skyc2',\n",
                "       'skyc3', 'skyc4', 'skyl1', 'skyl2', 'skyl3', 'skyl4', 'wxcodes',\n",
                "       'ice_accretion_1hr', 'ice_accretion_3hr', 'ice_accretion_6hr',\n",
                "       'peak_wind_gust', 'peak_wind_drct', 'peak_wind_time', 'feel', 'metar']\n",
                "    \"\"\"\n",
                "                    \n",
                "    base_url += f\"year1={start_year}&month1={start_month}&day1={start_day}&\"\n",
                "    base_url += f\"year2={end_year}&month2={end_month}&day2={end_day}&\"\n",
                "\n",
                "    station_frame = pd.DataFrame()\n",
                "\n",
                "    for station in stations:\n",
                "        url = f\"{service}&station={station}\"\n",
                "        df = pd.read_csv(url, skiprows=5)\n",
                "        station_frame = station_frame.append(df)\n",
                "\n",
                "    return station_frame\n"
            ],
            "outputs": [],
            "metadata": {}
        },
        {
            "cell_type": "code",
            "execution_count": 57,
            "source": [
                "stations = get_stations(states = [\"MD\"])\n",
                "\n",
                "maryland_data = get_station_data(stations, 2020, 9, 1, 2020, 9, 3)\n",
                "\n",
                "maryland_data.head()"
            ],
            "outputs": [
                {
                    "output_type": "execute_result",
                    "data": {
                        "text/plain": [
                            "Index(['station', 'valid', 'lon', 'lat', 'tmpf', 'dwpf', 'relh', 'drct',\n",
                            "       'sknt', 'p01i', 'alti', 'mslp', 'vsby', 'gust', 'skyc1', 'skyc2',\n",
                            "       'skyc3', 'skyc4', 'skyl1', 'skyl2', 'skyl3', 'skyl4', 'wxcodes',\n",
                            "       'ice_accretion_1hr', 'ice_accretion_3hr', 'ice_accretion_6hr',\n",
                            "       'peak_wind_gust', 'peak_wind_drct', 'peak_wind_time', 'feel', 'metar'],\n",
                            "      dtype='object')"
                        ]
                    },
                    "metadata": {},
                    "execution_count": 57
                }
            ],
            "metadata": {}
        }
    ],
    "metadata": {
        "orig_nbformat": 4,
        "language_info": {
            "name": "python",
            "version": "3.8.2",
            "mimetype": "text/x-python",
            "codemirror_mode": {
                "name": "ipython",
                "version": 3
            },
            "pygments_lexer": "ipython3",
            "nbconvert_exporter": "python",
            "file_extension": ".py"
        },
        "kernelspec": {
            "name": "python3",
            "display_name": "Python 3.8.2 64-bit ('venv': venv)"
        },
        "interpreter": {
            "hash": "b8047be81806fc0074fef46c8311ee537adf8502ce26a281ea506223ea8d27c6"
        }
    },
    "nbformat": 4,
    "nbformat_minor": 2
}